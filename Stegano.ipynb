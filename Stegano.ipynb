{
  "nbformat": 4,
  "nbformat_minor": 0,
  "metadata": {
    "colab": {
      "name": "Stegano.ipynb",
      "provenance": [],
      "collapsed_sections": []
    },
    "kernelspec": {
      "name": "python3",
      "display_name": "Python 3"
    },
    "language_info": {
      "name": "python"
    }
  },
  "cells": [
    {
      "cell_type": "code",
      "metadata": {
        "id": "2WCHiFzxblWG"
      },
      "source": [
        "import cv2\n",
        "import numpy as np\n",
        "import types\n",
        "from google.colab.patches import cv2_imshow"
      ],
      "execution_count": 1,
      "outputs": []
    },
    {
      "cell_type": "code",
      "metadata": {
        "id": "BzF3r9cnbo2v"
      },
      "source": [
        "def messageToBinary(message):\n",
        "  if type(message) == str:\n",
        "    return ''.join([ format(ord(i), \"08b\") for i in message ])\n",
        "  elif type(message) == bytes or type(message) == np.ndarray:\n",
        "    return [ format(i, \"08b\") for i in message ]\n",
        "  elif type(message) == int or type(message) == np.uint8:\n",
        "    return format(message, \"08b\")\n",
        "  else:\n",
        "    raise TypeError(\"Input type not supported\")"
      ],
      "execution_count": null,
      "outputs": []
    },
    {
      "cell_type": "code",
      "metadata": {
        "id": "fy7eykUBbpXH"
      },
      "source": [
        "def hideData(image, secret_message):\n",
        "\n",
        "  # calculate the maximum bytes to encode\n",
        "  n_bytes = image.shape[0] * image.shape[1] * 3 // 8\n",
        "  print(\"Maximum bytes to encode:\", n_bytes)\n",
        "\n",
        " \n",
        "  if len(secret_message) > n_bytes:\n",
        "      raise ValueError(\"Error encountered insufficient bytes, need bigger image or less data !!\")\n",
        "  \n",
        "  secret_message += \"#####\" \n",
        "\n",
        "  data_index = 0\n",
        " \n",
        "  binary_secret_msg = messageToBinary(secret_message)\n",
        "\n",
        "  data_len = len(binary_secret_msg) \n",
        "  for values in image:\n",
        "      for pixel in values:\n",
        "          r, g, b = messageToBinary(pixel)\n",
        "          if data_index < data_len:\n",
        "              pixel[0] = int(r[:-1] + binary_secret_msg[data_index], 2)\n",
        "              data_index += 1\n",
        "          if data_index < data_len:\n",
        "              pixel[1] = int(g[:-1] + binary_secret_msg[data_index], 2)\n",
        "              data_index += 1\n",
        "          if data_index < data_len:\n",
        "              pixel[2] = int(b[:-1] + binary_secret_msg[data_index], 2)\n",
        "              data_index += 1\n",
        "          if data_index >= data_len:\n",
        "              break\n",
        "\n",
        "  return image"
      ],
      "execution_count": null,
      "outputs": []
    },
    {
      "cell_type": "code",
      "metadata": {
        "id": "3H5ytLZLb7w9"
      },
      "source": [
        "def showData(image):\n",
        "\n",
        "  binary_data = \"\"\n",
        "  for values in image:\n",
        "      for pixel in values:\n",
        "          r, g, b = messageToBinary(pixel) \n",
        "          binary_data += r[-1] \n",
        "          binary_data += g[-1] \n",
        "          binary_data += b[-1] \n",
        "  all_bytes = [ binary_data[i: i+8] for i in range(0, len(binary_data), 8) ]\n",
        "  decoded_data = \"\"\n",
        "  for byte in all_bytes:\n",
        "      decoded_data += chr(int(byte, 2))\n",
        "      if decoded_data[-5:] == \"#####\":\n",
        "          break\n",
        "  return decoded_data[:-5] "
      ],
      "execution_count": null,
      "outputs": []
    },
    {
      "cell_type": "code",
      "metadata": {
        "id": "7uxwgoc7cGYH"
      },
      "source": [
        "def encode_text(): \n",
        "  image_name = input(\"Enter image name(with extension): \") \n",
        "  image = cv2.imread(image_name)\n",
        "  \n",
        "\n",
        "  print(\"The shape of the image is: \",image.shape) \n",
        "  print(\"The original image is as shown below: \")\n",
        "  resized_image = cv2.resize(image, (500, 500)) \n",
        "  cv2_imshow(resized_image)\n",
        "  \n",
        "      \n",
        "  data = input(\"Enter data to be encoded : \") \n",
        "  if (len(data) == 0): \n",
        "    raise ValueError('Data is empty')\n",
        "  \n",
        "  filename = input(\"Enter the name of new encoded image(with extension): \")\n",
        "  encoded_image = hideData(image, data) \n",
        "  cv2.imwrite(filename, encoded_image)\n"
      ],
      "execution_count": null,
      "outputs": []
    },
    {
      "cell_type": "code",
      "metadata": {
        "id": "PXkrQc2pcNpf"
      },
      "source": [
        "def decode_text():\n",
        "  image_name = input(\"Enter the name of the steganographed image that you want to decode (with extension) :\") \n",
        "  image = cv2.imread(image_name) \n",
        "\n",
        "  print(\"The Steganographed image is as shown below: \")\n",
        "  resized_image = cv2.resize(image, (500, 500))  \n",
        "  cv2_imshow(resized_image)\n",
        "    \n",
        "  text = showData(image)\n",
        "  return text"
      ],
      "execution_count": null,
      "outputs": []
    },
    {
      "cell_type": "code",
      "metadata": {
        "id": "gzhAI1sJcTu-"
      },
      "source": [
        "def Steganography(): \n",
        "    a = input(\"Image Steganography \\n 1. Encode the data \\n 2. Decode the data \\n Your input is: \")\n",
        "    userinput = int(a)\n",
        "    if (userinput == 1):\n",
        "      print(\"\\nEncoding....\")\n",
        "      encode_text() \n",
        "          \n",
        "    elif (userinput == 2):\n",
        "      print(\"\\nDecoding....\") \n",
        "      print(\"Decoded message is \" + decode_text()) \n",
        "    else: \n",
        "        raise Exception(\"Enter correct input\") \n",
        "          \n",
        "Steganography()"
      ],
      "execution_count": null,
      "outputs": []
    }
  ]
}